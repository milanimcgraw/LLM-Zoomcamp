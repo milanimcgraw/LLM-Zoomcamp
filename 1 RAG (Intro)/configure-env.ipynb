{
 "cells": [
  {
   "cell_type": "code",
   "execution_count": 1,
   "id": "2ce82cf9-7258-4b99-851e-2164d04a47a4",
   "metadata": {},
   "outputs": [],
   "source": [
    "import openai"
   ]
  },
  {
   "cell_type": "code",
   "execution_count": 2,
   "id": "f67b769c-347b-4255-a645-6ec4b659b3a3",
   "metadata": {},
   "outputs": [],
   "source": [
    "from openai import OpenAI"
   ]
  },
  {
   "cell_type": "code",
   "execution_count": 4,
   "id": "e46b93ae-8fa3-484c-baa3-5913320706ef",
   "metadata": {},
   "outputs": [],
   "source": [
    "client = OpenAI()"
   ]
  },
  {
   "cell_type": "code",
   "execution_count": 5,
   "id": "f01b04e4-82ce-406a-b6fe-32224be2a48f",
   "metadata": {},
   "outputs": [],
   "source": [
    "import os"
   ]
  },
  {
   "cell_type": "code",
   "execution_count": 6,
   "id": "e6a8c2b0-2fef-4aab-95a9-3ff20f3eae7b",
   "metadata": {},
   "outputs": [
    {
     "data": {
      "text/plain": [
       "ChatCompletion(id='chatcmpl-9dstqtuancT8vKdLG6bgThkgqUO3k', choices=[Choice(finish_reason='stop', index=0, logprobs=None, message=ChatCompletionMessage(content=\"It depends on the specific course, its start date, and the policies of the institution offering it. Here are some steps you can take to find out if you can still join the course:\\n\\n1. **Check the Course Details:** Look for information about the course's start date, enrollment deadlines, and any late registration policies.\\n\\n2. **Contact the Instructor or Institution:** Reach out to the course instructor or the institution's admissions office to inquire about late enrollment. They may allow you to join even if the course has already started, especially if it's early in the term.\\n\\n3. **Review Online Platforms:** If the course is offered online through platforms like Coursera, edX, Udemy, etc., check the enrollment options directly on the platform. Some online courses offer flexible start dates or rolling admissions.\\n\\n4. **Consider Self-Paced Options:** Some courses, especially those offered online, might be self-paced, meaning you can start at any time and progress at your own speed.\\n\\nIf you provide more details about the course, such as its name, the institution offering it, and the platform it's on, I could offer more specific advice.\", role='assistant', function_call=None, tool_calls=None))], created=1719292854, model='gpt-4o-2024-05-13', object='chat.completion', service_tier=None, system_fingerprint='fp_5e6c71d4a8', usage=CompletionUsage(completion_tokens=229, prompt_tokens=16, total_tokens=245))"
      ]
     },
     "execution_count": 6,
     "metadata": {},
     "output_type": "execute_result"
    }
   ],
   "source": [
    "client.chat.completions.create(\n",
    "    model='gpt-4o',\n",
    "    messages=[{\"role\": \"user\", \"content\": \"is it too late to join the course?\"}]\n",
    ")"
   ]
  }
 ],
 "metadata": {
  "kernelspec": {
   "display_name": "Python 3 (ipykernel)",
   "language": "python",
   "name": "python3"
  },
  "language_info": {
   "codemirror_mode": {
    "name": "ipython",
    "version": 3
   },
   "file_extension": ".py",
   "mimetype": "text/x-python",
   "name": "python",
   "nbconvert_exporter": "python",
   "pygments_lexer": "ipython3",
   "version": "3.10.13"
  }
 },
 "nbformat": 4,
 "nbformat_minor": 5
}
